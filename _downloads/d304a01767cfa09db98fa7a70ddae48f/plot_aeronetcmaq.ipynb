{
  "cells": [
    {
      "cell_type": "markdown",
      "metadata": {},
      "source": [
        "\n# Example Evaluation of EQUATES CMAQ AOD\n\nUses EQUATES and AERONet from APIs that create xarray and pandas\ndata structure.  The final output is a comparison between AERONet\nL2 AOD_500nm and PHOTDIAG1 AOD550 both spatially as a monthly average\nand as a scatter plot of hourly values.\n"
      ]
    },
    {
      "cell_type": "markdown",
      "metadata": {},
      "source": [
        "## Import Libraries\n\n"
      ]
    },
    {
      "cell_type": "code",
      "execution_count": null,
      "metadata": {
        "collapsed": false
      },
      "outputs": [],
      "source": [
        "import pycno\nimport pyproj\nimport pyrsig\nimport pyaeronet\nimport matplotlib.pyplot as plt"
      ]
    },
    {
      "cell_type": "markdown",
      "metadata": {},
      "source": [
        "## Load Data and Projection Info\n\n"
      ]
    },
    {
      "cell_type": "code",
      "execution_count": null,
      "metadata": {
        "collapsed": false
      },
      "outputs": [],
      "source": [
        "aeronet = pyaeronet.aeronet()\naeronetdf = aeronet.to_dataframe(\n    outpath='aeronet_L2_20190101_20190107.txt', AOD20=1, AVG=10,\n    year=2019, month=1, day=1,\n    year2=2019, month2=1, day2=7,\n)\nrsig = pyrsig.RsigApi()\neqds = rsig.to_ioapi(\n    'cmaq.equates.conus.integrated.AOD550',\n    bdate='2019-01-01T00', edate='2019-01-07T23:59:59'\n)\nproj = pyproj.Proj(eqds.crs_proj4)\ncno = pycno.cno(proj=proj)\naeronetdf['x'], aeronetdf['y'] = proj(\n    aeronetdf['Site_Longitude(Degrees)'], aeronetdf['Site_Latitude(Degrees)']\n)"
      ]
    },
    {
      "cell_type": "markdown",
      "metadata": {},
      "source": [
        "## Pair EQUATES w/ AERONet in Domain\n\n"
      ]
    },
    {
      "cell_type": "code",
      "execution_count": null,
      "metadata": {
        "collapsed": false
      },
      "outputs": [],
      "source": [
        "eaeronetdf = aeronetdf.query(\n    f'x >= 0 and x <= {eqds.NCOLS}'\n    f' and y >= 0 and y <= {eqds.NROWS}'\n).copy()\neaeronetdf['COL'] = eaeronetdf['x'].astype('i')\neaeronetdf['ROW'] = eaeronetdf['y'].astype('i')\ntidx = (eaeronetdf['Day_of_Year(Fraction)'] * 24 - 24).astype('i').to_xarray()\njidx = eaeronetdf['ROW'].astype('i').to_xarray()\niidx = eaeronetdf['COL'].astype('i').to_xarray()\nataeronet = eqds['AOD550'].isel(TSTEP=tidx, ROW=jidx, COL=iidx)\neaeronetdf['CMAQ_AOD550'] = ataeronet.values"
      ]
    },
    {
      "cell_type": "markdown",
      "metadata": {},
      "source": [
        "## Create AERONet Averages\n\n"
      ]
    },
    {
      "cell_type": "code",
      "execution_count": null,
      "metadata": {
        "collapsed": false
      },
      "outputs": [],
      "source": [
        "paeronetcdf = eaeronetdf.groupby(['ROW', 'COL']).agg(\n    AOD_500nm=('AOD_500nm', 'mean'), count=('AOD_500nm', 'count')\n).query('count > 25').reset_index()\n\nfig, axx = plt.subplots(1, 2, figsize=(12, 4))\nqm = eqds['AOD550'].mean('TSTEP').plot(ax=axx[0])\npaeronetcdf.plot.scatter(\n    x='COL', y='ROW', c='AOD_500nm', ax=axx[0], edgecolor='w',\n    norm=qm.norm, cmap=qm.cmap, colorbar=False\n)\ncno.drawstates(ax=axx[0])\neaeronetdf.plot.hexbin(\n    x='CMAQ_AOD550', y='AOD_500nm', mincnt=1, cmap='viridis', ax=axx[1]\n)\nvmax = eaeronetdf[['CMAQ_AOD550', 'AOD_500nm']].max().max()\nvmin = min(0, eaeronetdf[['CMAQ_AOD550', 'AOD_500nm']].min().min())\naxx[1].set(\n    facecolor='gainsboro', xlim=(vmin, vmax), ylim=(vmin, vmax), aspect=1\n)\nfig.savefig('equates_aeronet.png')"
      ]
    }
  ],
  "metadata": {
    "kernelspec": {
      "display_name": "Python 3",
      "language": "python",
      "name": "python3"
    },
    "language_info": {
      "codemirror_mode": {
        "name": "ipython",
        "version": 3
      },
      "file_extension": ".py",
      "mimetype": "text/x-python",
      "name": "python",
      "nbconvert_exporter": "python",
      "pygments_lexer": "ipython3",
      "version": "3.12.4"
    }
  },
  "nbformat": 4,
  "nbformat_minor": 0
}